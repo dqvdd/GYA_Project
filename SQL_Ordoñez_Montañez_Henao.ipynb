{
  "cells": [
    {
      "cell_type": "markdown",
      "metadata": {
        "id": "Mk3r7Il_8iuR"
      },
      "source": [
        "# NOTEBOOK DEL SQL CON EL DATASET LIMPIO"
      ]
    },
    {
      "cell_type": "markdown",
      "metadata": {
        "id": "MKldwKGY8vmK"
      },
      "source": [
        "**Integrantes**\n",
        "\n",
        "1.  *David Stivens Ordoñez*\n",
        "2.   *Sebastian Montañez*\n",
        "3.   *Santiago Henao Gutierrez*"
      ]
    },
    {
      "cell_type": "markdown",
      "metadata": {},
      "source": [
        "## DEPENDENCIAS Y LIBRERIAS"
      ]
    },
    {
      "cell_type": "markdown",
      "metadata": {},
      "source": [
        "### DEPENDENCIAS"
      ]
    },
    {
      "cell_type": "code",
      "execution_count": 1,
      "metadata": {},
      "outputs": [
        {
          "name": "stdout",
          "output_type": "stream",
          "text": [
            "Defaulting to user installation because normal site-packages is not writeable\n",
            "Collecting PyMySQL\n",
            "  Using cached PyMySQL-1.1.1-py3-none-any.whl.metadata (4.4 kB)\n",
            "Using cached PyMySQL-1.1.1-py3-none-any.whl (44 kB)\n",
            "Installing collected packages: PyMySQL\n",
            "Successfully installed PyMySQL-1.1.1\n",
            "Note: you may need to restart the kernel to use updated packages.\n",
            "Defaulting to user installation because normal site-packages is not writeableNote: you may need to restart the kernel to use updated packages.\n",
            "\n",
            "Collecting mysql-connector-python\n",
            "  Using cached mysql_connector_python-9.0.0-cp312-cp312-win_amd64.whl.metadata (2.0 kB)\n",
            "Using cached mysql_connector_python-9.0.0-cp312-cp312-win_amd64.whl (14.3 MB)\n",
            "Installing collected packages: mysql-connector-python\n",
            "Successfully installed mysql-connector-python-9.0.0\n",
            "Defaulting to user installation because normal site-packages is not writeable\n",
            "Requirement already satisfied: PyMySQL in c:\\users\\dqvdd\\appdata\\local\\packages\\pythonsoftwarefoundation.python.3.12_qbz5n2kfra8p0\\localcache\\local-packages\\python312\\site-packages (1.1.1)\n",
            "Note: you may need to restart the kernel to use updated packages.\n",
            "Defaulting to user installation because normal site-packages is not writeableNote: you may need to restart the kernel to use updated packages.\n",
            "\n",
            "Collecting SQLAlchemy\n",
            "  Using cached SQLAlchemy-2.0.35-cp312-cp312-win_amd64.whl.metadata (9.9 kB)\n",
            "Collecting typing-extensions>=4.6.0 (from SQLAlchemy)\n",
            "  Using cached typing_extensions-4.12.2-py3-none-any.whl.metadata (3.0 kB)\n",
            "Collecting greenlet!=0.4.17 (from SQLAlchemy)\n",
            "  Using cached greenlet-3.1.1-cp312-cp312-win_amd64.whl.metadata (3.9 kB)\n",
            "Using cached SQLAlchemy-2.0.35-cp312-cp312-win_amd64.whl (2.1 MB)\n",
            "Using cached greenlet-3.1.1-cp312-cp312-win_amd64.whl (299 kB)\n",
            "Using cached typing_extensions-4.12.2-py3-none-any.whl (37 kB)\n",
            "Installing collected packages: typing-extensions, greenlet, SQLAlchemy\n",
            "Successfully installed SQLAlchemy-2.0.35 greenlet-3.1.1 typing-extensions-4.12.2\n",
            "Defaulting to user installation because normal site-packages is not writeable\n",
            "Collecting pandas\n",
            "  Using cached pandas-2.2.3-cp312-cp312-win_amd64.whl.metadata (19 kB)\n",
            "Collecting pd\n",
            "  Using cached pd-0.0.4-py3-none-any.whl.metadata (5.2 kB)\n",
            "Collecting numpy>=1.26.0 (from pandas)\n",
            "  Using cached numpy-2.1.1-cp312-cp312-win_amd64.whl.metadata (59 kB)\n",
            "Requirement already satisfied: python-dateutil>=2.8.2 in c:\\users\\dqvdd\\appdata\\local\\packages\\pythonsoftwarefoundation.python.3.12_qbz5n2kfra8p0\\localcache\\local-packages\\python312\\site-packages (from pandas) (2.9.0.post0)\n",
            "Collecting pytz>=2020.1 (from pandas)\n",
            "  Using cached pytz-2024.2-py2.py3-none-any.whl.metadata (22 kB)\n",
            "Collecting tzdata>=2022.7 (from pandas)\n",
            "  Using cached tzdata-2024.2-py2.py3-none-any.whl.metadata (1.4 kB)\n",
            "Requirement already satisfied: six>=1.5 in c:\\users\\dqvdd\\appdata\\local\\packages\\pythonsoftwarefoundation.python.3.12_qbz5n2kfra8p0\\localcache\\local-packages\\python312\\site-packages (from python-dateutil>=2.8.2->pandas) (1.16.0)\n",
            "Using cached pandas-2.2.3-cp312-cp312-win_amd64.whl (11.5 MB)\n",
            "Using cached pd-0.0.4-py3-none-any.whl (6.5 kB)\n",
            "Using cached numpy-2.1.1-cp312-cp312-win_amd64.whl (12.6 MB)\n",
            "Using cached pytz-2024.2-py2.py3-none-any.whl (508 kB)\n",
            "Using cached tzdata-2024.2-py2.py3-none-any.whl (346 kB)\n",
            "Installing collected packages: pytz, pd, tzdata, numpy, pandas\n",
            "Successfully installed numpy-2.1.1 pandas-2.2.3 pd-0.0.4 pytz-2024.2 tzdata-2024.2\n",
            "Note: you may need to restart the kernel to use updated packages.\n"
          ]
        }
      ],
      "source": [
        "%pip install PyMySQL\n",
        "%pip install mysql-connector-python\n",
        "%pip install PyMySQL\n",
        "%pip install SQLAlchemy \n",
        "%pip install pandas pd"
      ]
    },
    {
      "cell_type": "markdown",
      "metadata": {},
      "source": [
        "### LIBRERIAS"
      ]
    },
    {
      "cell_type": "code",
      "execution_count": 2,
      "metadata": {},
      "outputs": [],
      "source": [
        "from sqlalchemy import create_engine # type: ignore\n",
        "from sqlalchemy.exc import SQLAlchemyError # Nos servirá para validar la conexión # type: ignore\n",
        "import pymysql # type: ignore\n",
        "import pandas as pd # type: ignore\n",
        "import mysql.connector # type: ignore\n",
        "import mysql.connector # Importa el módulo para conectar con MySQL # type: ignore\n",
        "from mysql.connector import errorcode # Importa los códigos de error de MySQL # type: ignore\n",
        "import pandas as pd # Importa pandas para manejar datos # type: ignore\n",
        "import mysql.connector # Importa el conector de MySQL # type: ignore\n",
        "from mysql.connector import errorcode # type: ignore # Importa los códigos de error de MySQL"
      ]
    },
    {
      "cell_type": "markdown",
      "metadata": {},
      "source": [
        "## BASE DE DATOS"
      ]
    },
    {
      "cell_type": "markdown",
      "metadata": {},
      "source": [
        "### DATOS DE CREACION BD"
      ]
    },
    {
      "cell_type": "code",
      "execution_count": 3,
      "metadata": {},
      "outputs": [],
      "source": [
        "user = \"root\"\n",
        "password = \"708090\"\n",
        "host = 'localhost' #ESTO SE CAMBIA SI ES REMOTO\n",
        "database_name = 'db_superstore'"
      ]
    },
    {
      "cell_type": "code",
      "execution_count": 4,
      "metadata": {},
      "outputs": [],
      "source": [
        "config = {\n",
        "    'user': user,\n",
        "    'password': password,\n",
        "    'host': host,\n",
        "    'database': database_name,\n",
        "    'raise_on_warnings': True\n",
        "}"
      ]
    },
    {
      "cell_type": "markdown",
      "metadata": {},
      "source": [
        "### SQL (CREACION DATABASE Y TABLAS)"
      ]
    },
    {
      "cell_type": "code",
      "execution_count": 5,
      "metadata": {},
      "outputs": [
        {
          "name": "stdout",
          "output_type": "stream",
          "text": [
            "La base de datos 'db_superstore' ya existe.\n",
            "Conexión cerrada.\n"
          ]
        }
      ],
      "source": [
        "try:\n",
        "    # Conectar al servidor MySQL sin especificar base de datos\n",
        "    conn = mysql.connector.connect(\n",
        "        host=config['host'],\n",
        "        user=config['user'],\n",
        "        password=config['password']\n",
        "        # No se especifica la base de datos aquí\n",
        "    )\n",
        "    cursor = conn.cursor()\n",
        "\n",
        "    # Verificar si la base de datos ya existe\n",
        "    cursor.execute(f\"SHOW DATABASES LIKE '{database_name}';\")\n",
        "    database_exists = cursor.fetchone()\n",
        "\n",
        "    if not database_exists:\n",
        "        # Crear la base de datos si no existe\n",
        "        cursor.execute(f\"CREATE DATABASE {database_name};\")\n",
        "        print(f\"Base de datos '{database_name}' creada exitosamente.\")\n",
        "    else:\n",
        "        print(f\"La base de datos '{database_name}' ya existe.\")\n",
        "\n",
        "except mysql.connector.Error as err:\n",
        "    if err.errno == errorcode.ER_ACCESS_DENIED_ERROR:\n",
        "        print(\"Usuario o contraseña incorrectos.\")\n",
        "    elif err.errno == errorcode.ER_NO_SUCH_TABLE:\n",
        "        print(\"La tabla no existe.\")\n",
        "    else:\n",
        "        print(err)\n",
        "\n",
        "finally:\n",
        "    # Verificar si 'conn' está definido y si está conectado antes de cerrar\n",
        "    if 'conn' in locals() and conn.is_connected():\n",
        "        conn.close()\n",
        "        print(\"Conexión cerrada.\")"
      ]
    },
    {
      "cell_type": "code",
      "execution_count": 6,
      "metadata": {},
      "outputs": [
        {
          "name": "stdout",
          "output_type": "stream",
          "text": [
            "1050: Table 'orders' already exists\n"
          ]
        }
      ],
      "source": [
        "try:\n",
        "    # Conectar al servidor MySQL usando la configuración especificada\n",
        "    conn = mysql.connector.connect(**config)\n",
        "    cursor = conn.cursor()\n",
        "\n",
        "    # Seleccionar la base de datos\n",
        "    cursor.execute(f\"USE {database_name};\")\n",
        "\n",
        "    # Crear las tablas si no existen\n",
        "    create_table_Orders_query = \"\"\"\n",
        "    CREATE TABLE IF NOT EXISTS Orders (\n",
        "        Order_ID VARCHAR(50),\n",
        "        Order_Date DATE,\n",
        "        Ship_Date DATE,\n",
        "        Ship_Mode VARCHAR(50),\n",
        "        Customer_ID VARCHAR(50),\n",
        "        Customer_Name VARCHAR(200),\n",
        "        Segment VARCHAR(50),\n",
        "        City VARCHAR(50),\n",
        "        State VARCHAR(50),\n",
        "        Country VARCHAR(50),\n",
        "        Region VARCHAR(50),\n",
        "        Market VARCHAR(50),\n",
        "        Product_ID VARCHAR(20),\n",
        "        Category VARCHAR(50),\n",
        "        Sub_Category VARCHAR(50),\n",
        "        Product_Name VARCHAR(255),\n",
        "        Sales FLOAT,\n",
        "        Quantity INT,\n",
        "        Discount FLOAT,\n",
        "        Profit FLOAT,\n",
        "        Shipping_Cost FLOAT,\n",
        "        Order_Priority VARCHAR(50)\n",
        "    );\n",
        "    \"\"\"\n",
        "\n",
        "    create_table_People_query = \"\"\"\n",
        "    CREATE TABLE IF NOT EXISTS People (\n",
        "        Person VARCHAR(50),\n",
        "        Region VARCHAR(50)\n",
        "    );\n",
        "    \"\"\"\n",
        "\n",
        "    create_table_Returns_query = \"\"\"\n",
        "    CREATE TABLE IF NOT EXISTS Returns (\n",
        "        Order_ID VARCHAR(50),\n",
        "        Region VARCHAR(50)\n",
        "    );\n",
        "    \"\"\"\n",
        "\n",
        "    cursor.execute(create_table_Orders_query)\n",
        "    print(\"Tabla 'Orders' creada exitosamente o ya existe.\")\n",
        "\n",
        "    cursor.execute(create_table_Returns_query)\n",
        "    print(\"Tabla 'Returns' creada exitosamente o ya existe.\")\n",
        "\n",
        "    cursor.execute(create_table_People_query)\n",
        "    print(\"Tabla 'People' creada exitosamente o ya existe.\")\n",
        "\n",
        "except mysql.connector.Error as err:\n",
        "    if err.errno == errorcode.ER_ACCESS_DENIED_ERROR:\n",
        "        print(\"Usuario o contraseña incorrectos.\")\n",
        "    elif err.errno == errorcode.ER_NO_SUCH_TABLE:\n",
        "        print(\"La tabla no existe.\")\n",
        "    else:\n",
        "        print(err)\n",
        "\n",
        "finally:\n",
        "    conn.close()"
      ]
    },
    {
      "cell_type": "markdown",
      "metadata": {},
      "source": [
        "### CARGUE DE DATOS"
      ]
    },
    {
      "cell_type": "code",
      "execution_count": 7,
      "metadata": {},
      "outputs": [],
      "source": [
        "df_Orders_Cleaned = \"C:/Users/dqvdd/OneDrive - Universidad Autonoma de Occidente/UAO 2024-03 - BIG DATA/GESTION Y ALMACENAMIENTO DE DATOS/PROYECTO/df_Orders_Cleaned.csv\"\n",
        "df_Returns_Cleaned = \"C:/Users/dqvdd/OneDrive - Universidad Autonoma de Occidente/UAO 2024-03 - BIG DATA/GESTION Y ALMACENAMIENTO DE DATOS/PROYECTO/df_Returns_Cleaned.csv\"\n",
        "df_People_Cleaned = \"C:/Users/dqvdd/OneDrive - Universidad Autonoma de Occidente/UAO 2024-03 - BIG DATA/GESTION Y ALMACENAMIENTO DE DATOS/PROYECTO/df_People_Cleaned.csv\""
      ]
    },
    {
      "cell_type": "code",
      "execution_count": 8,
      "metadata": {},
      "outputs": [
        {
          "name": "stdout",
          "output_type": "stream",
          "text": [
            "datos cargados\n"
          ]
        }
      ],
      "source": [
        "try:\n",
        "    connection_string = f\"mysql+mysqlconnector://{user}:{password}@{host}/{database_name}\"\n",
        "    engine = create_engine(connection_string)\n",
        "\n",
        "    df_orders = pd.read_csv(df_Orders_Cleaned, sep=';')\n",
        "    df_orders_to_sql = df_orders.to_sql('orders', engine, if_exists='replace', index=False)\n",
        "\n",
        "    df_returns = pd.read_csv(df_Returns_Cleaned, sep=';')\n",
        "    df_returns_to_sql = df_returns.to_sql('returns', engine, if_exists='replace', index=False)\n",
        "\n",
        "    df_people = pd.read_csv(df_People_Cleaned, sep=';')\n",
        "    df_people_to_sql = df_people.to_sql('people', engine, if_exists='replace', index=False)\n",
        "\n",
        "except mysql.connector.Error as err:\n",
        "    print(f\"Error al cargar datos en la tabla 'people': {err}\")\n",
        "finally:\n",
        "    print(\"datos cargados\")"
      ]
    }
  ],
  "metadata": {
    "colab": {
      "provenance": []
    },
    "kernelspec": {
      "display_name": "Python 3",
      "name": "python3"
    },
    "language_info": {
      "codemirror_mode": {
        "name": "ipython",
        "version": 3
      },
      "file_extension": ".py",
      "mimetype": "text/x-python",
      "name": "python",
      "nbconvert_exporter": "python",
      "pygments_lexer": "ipython3",
      "version": "3.12.6"
    }
  },
  "nbformat": 4,
  "nbformat_minor": 0
}
